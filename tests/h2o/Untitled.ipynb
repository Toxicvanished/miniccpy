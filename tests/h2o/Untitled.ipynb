{
 "cells": [
  {
   "cell_type": "code",
   "execution_count": 1,
   "id": "e68eaec9",
   "metadata": {},
   "outputs": [],
   "source": [
    "import numpy as np\n",
    "from pyscf import gto, scf\n",
    "from ccpy.drivers.driver import Driver"
   ]
  },
  {
   "cell_type": "code",
   "execution_count": 34,
   "id": "4e4b4611",
   "metadata": {},
   "outputs": [],
   "source": [
    "mol = gto.M(atom='''C  0.0  0.0  -2.13713/2\n",
    "                    H  0.0  0.0   2.13713/2''', \n",
    "            basis=\"aug-cc-pvdz\", \n",
    "            charge=1, \n",
    "            unit=\"Bohr\", \n",
    "            spin=0, \n",
    "            symmetry=\"C2V\", \n",
    "            cart=True)"
   ]
  },
  {
   "cell_type": "code",
   "execution_count": 35,
   "id": "cd9d8953",
   "metadata": {},
   "outputs": [
    {
     "name": "stdout",
     "output_type": "stream",
     "text": [
      "converged SCF energy = -37.9023161725864\n"
     ]
    },
    {
     "data": {
      "text/plain": [
       "-37.902316172586374"
      ]
     },
     "execution_count": 35,
     "metadata": {},
     "output_type": "execute_result"
    }
   ],
   "source": [
    "mf = scf.RHF(mol)\n",
    "mf.kernel()"
   ]
  },
  {
   "cell_type": "code",
   "execution_count": 36,
   "id": "1cf908eb",
   "metadata": {},
   "outputs": [],
   "source": [
    "driver = Driver.from_pyscf(mf, nfrozen=0)"
   ]
  },
  {
   "cell_type": "code",
   "execution_count": 37,
   "id": "d3fed2ff",
   "metadata": {},
   "outputs": [
    {
     "name": "stdout",
     "output_type": "stream",
     "text": [
      "   ------------------------------------------\n",
      "   method = CCSD\n",
      "   maximum_iterations = 80\n",
      "   amp_convergence = 1e-07\n",
      "   energy_convergence = 1e-07\n",
      "   energy_shift = 0.0\n",
      "   diis_size = 6\n",
      "   RHF_symmetry = True\n",
      "   diis_out_of_core = False\n",
      "   amp_print_threshold = 0.025\n",
      "   davidson_max_subspace_size = 30\n",
      "   davidson_solver = standard\n",
      "   davidson_selection_method = overlap\n",
      "   ------------------------------------------\n",
      "\n",
      "   CC calculation started on 2023-09-02 20:53:24\n",
      "   Energy of initial guess =         0.0000000000\n",
      "\n",
      "      Iter.     Residuum             δE                ΔE           Wall time\n",
      "    ----------------------------------------------------------------------------\n",
      "       0      0.1847140395     -0.0751342731     -0.0751342731     (0.0m 0.1s)\n",
      "       1      0.0630608443     -0.0189382562     -0.0940725293     (0.0m 0.1s)\n",
      "       2      0.0321816192     -0.0064864448     -0.1005589741     (0.0m 0.1s)\n",
      "       3      0.0187637003     -0.0027745474     -0.1033335215     (0.0m 0.1s)\n",
      "       4      0.0115268437     -0.0013683271     -0.1047018486     (0.0m 0.1s)\n",
      "       5      0.0073580053     -0.0007333038     -0.1054351524     (0.0m 0.1s)\n",
      "       6      0.0048544786     -0.0004146059     -0.1058497583     (0.0m 0.1s)\n",
      "       7      0.0032899700     -0.0002436335     -0.1060933918     (0.0m 0.1s)\n",
      "       8      0.0022747942     -0.0001476706     -0.1062410623     (0.0m 0.1s)\n",
      "       9      0.0015948859     -0.0000919088     -0.1063329712     (0.0m 0.1s)\n",
      "      10      0.0000024675     -0.0001772943     -0.1065102654     (0.0m 0.1s)\n",
      "      11      0.0000006947      0.0000000080     -0.1065102574     (0.0m 0.1s)\n",
      "      12      0.0000001431     -0.0000000045     -0.1065102620     (0.0m 0.1s)\n",
      "      13      0.0000000504     -0.0000000014     -0.1065102633     (0.0m 0.1s)\n",
      "   CC calculation successfully converged! (0.00m  1.20s)\n",
      "\n",
      "   CC Calculation Summary\n",
      "  --------------------------------------------------\n",
      "   Reference energy                    -37.90231617\n",
      "   CC correlation energy                -0.10651026\n",
      "   Total CC energy                     -38.00882644\n",
      "\n",
      "   Largest Singly and Doubly Excited Amplitudes:\n",
      "      [1]     2A  2B  ->  4A  4B  =   -0.070411\n",
      "      [2]     2A  3B  ->  4A  4B  =   0.045225\n",
      "      [3]     3A  2B  ->  4A  4B  =   0.045225\n",
      "      [4]     3A  3B  ->  4A  4B  =   -0.104383\n",
      "      [5]     2A  2B  ->  5A  5B  =   -0.070411\n",
      "      [6]     2A  3B  ->  5A  5B  =   0.045225\n",
      "      [7]     3A  2B  ->  5A  5B  =   0.045225\n",
      "      [8]     3A  3B  ->  5A  5B  =   -0.104383\n",
      "      [9]     3A  3B  ->  11A  11B  =   -0.031266\n",
      "      [10]     3A  3B  ->  11A  23B  =   -0.025049\n",
      "      [11]     3A  3B  ->  23A  11B  =   -0.025049\n",
      "      [12]     3A  3B  ->  23A  23B  =   -0.028306\n",
      "\n",
      "   CC calculation ended on 2023-09-02 20:53:25\n"
     ]
    }
   ],
   "source": [
    "driver.run_cc(method=\"ccsd\")"
   ]
  },
  {
   "cell_type": "code",
   "execution_count": 38,
   "id": "aa84c2ad",
   "metadata": {},
   "outputs": [
    {
     "name": "stdout",
     "output_type": "stream",
     "text": [
      "\n",
      "   HBar construction began on 2023-09-02 20:53:32... completed on 2023-09-02 20:53:32 \n",
      "\n"
     ]
    }
   ],
   "source": [
    "driver.run_hbar(method=\"ccsd\")"
   ]
  },
  {
   "cell_type": "code",
   "execution_count": 39,
   "id": "ed76214a",
   "metadata": {},
   "outputs": [],
   "source": [
    "driver.run_guess(method=\"eacis\", multiplicity=2, nroot=5)"
   ]
  },
  {
   "cell_type": "code",
   "execution_count": 40,
   "id": "19a43d1e",
   "metadata": {},
   "outputs": [
    {
     "data": {
      "text/plain": [
       "array([-0.31093387, -0.31093387, -0.13692548, -0.06619123, -0.06001673])"
      ]
     },
     "execution_count": 40,
     "metadata": {},
     "output_type": "execute_result"
    }
   ],
   "source": [
    "driver.guess_energy"
   ]
  },
  {
   "cell_type": "code",
   "execution_count": 42,
   "id": "0dbff768",
   "metadata": {},
   "outputs": [
    {
     "name": "stdout",
     "output_type": "stream",
     "text": [
      "   ------------------------------------------\n",
      "   method = EAEOM3\n",
      "   maximum_iterations = 80\n",
      "   amp_convergence = 1e-07\n",
      "   energy_convergence = 1e-07\n",
      "   energy_shift = 0.0\n",
      "   diis_size = 6\n",
      "   RHF_symmetry = False\n",
      "   diis_out_of_core = False\n",
      "   amp_print_threshold = 0.025\n",
      "   davidson_max_subspace_size = 30\n",
      "   davidson_solver = standard\n",
      "   davidson_selection_method = overlap\n",
      "   ------------------------------------------\n",
      "\n",
      "   EA-EOMCC calculation for root 0 started on 2023-09-02 20:54:00\n",
      "\n",
      "   Energy of initial guess = -0.3840350719\n",
      "\n",
      "   Largest 1p and 2p-1h Excited Amplitudes:\n",
      "      [1]     ->  4A  =   -0.944471\n",
      "      [2]     ->  8A  =   0.053184\n",
      "      [3]     ->  21A  =   0.033344\n",
      "      [4]     2A  ->  4A  6A  =   -0.047702\n",
      "      [5]     3A  ->  4A  7A  =   -0.083130\n",
      "      [6]     2A  ->  4A  10A  =   -0.035545\n",
      "      [7]     3A  ->  4A  11A  =   0.046743\n",
      "      [8]     3A  ->  4A  16A  =   -0.047679\n",
      "      [9]     2A  ->  4A  17A  =   0.031845\n",
      "      [10]     3A  ->  4A  17A  =   -0.028425\n",
      "      [11]     3A  ->  4A  23A  =   0.031368\n",
      "      [12]     2B  ->  4A  6B  =   -0.062000\n",
      "      [13]     3B  ->  4A  7B  =   -0.100984\n",
      "      [14]     2B  ->  4A  10B  =   -0.048291\n",
      "      [15]     2B  ->  4A  11B  =   0.026350\n",
      "      [16]     3B  ->  4A  11B  =   0.048550\n",
      "      [17]     3B  ->  4A  16B  =   -0.060301\n",
      "      [18]     2B  ->  4A  17B  =   0.036293\n",
      "      [19]     3B  ->  4A  17B  =   -0.033031\n",
      "      [20]     3B  ->  4A  23B  =   0.036208\n",
      "      [21]     2B  ->  14A  4B  =   -0.027584\n",
      "      [22]     2B  ->  15A  5B  =   0.027584\n",
      "\n",
      "      Iter.     Residuum              ω                δω           Wall time\n",
      "    ----------------------------------------------------------------------------\n",
      "       0      0.0000000441     -0.3840350719     -0.0000000000     (0.0m 0.0s)\n",
      "\n",
      "   EA-EOMCC Calculation Summary (converged)\n",
      "  --------------------------------------------------\n",
      "   Vertical excitation energy           -0.38403507\n",
      "   Total EA-EOMCC energy               -38.39286151\n",
      "\n",
      "   Largest 1p and 2p-1h Excited Amplitudes:\n",
      "      [1]     ->  4A  =   -0.944471\n",
      "      [2]     ->  8A  =   0.053184\n",
      "      [3]     ->  21A  =   0.033344\n",
      "      [4]     2A  ->  4A  6A  =   -0.047702\n",
      "      [5]     3A  ->  4A  7A  =   -0.083130\n",
      "      [6]     2A  ->  4A  10A  =   -0.035545\n",
      "      [7]     3A  ->  4A  11A  =   0.046743\n",
      "      [8]     3A  ->  4A  16A  =   -0.047679\n",
      "      [9]     2A  ->  4A  17A  =   0.031845\n",
      "      [10]     3A  ->  4A  17A  =   -0.028425\n",
      "      [11]     3A  ->  4A  23A  =   0.031368\n",
      "      [12]     2B  ->  4A  6B  =   -0.062000\n",
      "      [13]     3B  ->  4A  7B  =   -0.100984\n",
      "      [14]     2B  ->  4A  10B  =   -0.048291\n",
      "      [15]     2B  ->  4A  11B  =   0.026350\n",
      "      [16]     3B  ->  4A  11B  =   0.048550\n",
      "      [17]     3B  ->  4A  16B  =   -0.060301\n",
      "      [18]     2B  ->  4A  17B  =   0.036293\n",
      "      [19]     3B  ->  4A  17B  =   -0.033031\n",
      "      [20]     3B  ->  4A  23B  =   0.036208\n",
      "      [21]     2B  ->  14A  4B  =   -0.027584\n",
      "      [22]     2B  ->  15A  5B  =   0.027584\n",
      "\n",
      "   EA-EOMCC calculation for root 0 ended on 2023-09-02 20:54:01 \n",
      "\n",
      "   EA-EOMCC calculation for root 1 started on 2023-09-02 20:54:01\n",
      "\n",
      "   Energy of initial guess = -0.3109338692\n",
      "\n",
      "   Largest 1p and 2p-1h Excited Amplitudes:\n",
      "      [1]     ->  5A  =   0.999750\n",
      "\n",
      "      Iter.     Residuum              ω                δω           Wall time\n",
      "    ----------------------------------------------------------------------------\n",
      "       0      0.3891271113     -0.3109338414      0.0000000279     (0.0m 0.6s)\n",
      "       1      0.2093584263     -0.3776195286     -0.0666856872     (0.0m 0.6s)\n",
      "       2      0.0958255471     -0.3836479012     -0.0060283726     (0.0m 0.7s)\n",
      "       3      0.0369565089     -0.3831498195      0.0004980817     (0.0m 0.7s)\n",
      "       4      0.0127024029     -0.3836446931     -0.0004948736     (0.0m 0.7s)\n",
      "       5      0.0048190697     -0.3840238610     -0.0003791679     (0.0m 0.8s)\n",
      "       6      0.0015830357     -0.3840297327     -0.0000058717     (0.0m 0.8s)\n",
      "       7      0.0004892186     -0.3840393655     -0.0000096328     (0.0m 0.8s)\n",
      "       8      0.0001595747     -0.3840369051      0.0000024604     (0.0m 1.0s)\n",
      "       9      0.0000617537     -0.3840357327      0.0000011724     (0.0m 1.0s)\n",
      "      10      0.0000279022     -0.3840354735      0.0000002592     (0.0m 1.0s)\n",
      "      11      0.0000131418     -0.3840352581      0.0000002153     (0.0m 1.1s)\n",
      "      12      0.0000057607     -0.3840350786      0.0000001796     (0.0m 1.1s)\n",
      "      13      0.0000021244     -0.3840350627      0.0000000159     (0.0m 1.2s)\n",
      "      14      0.0000007066     -0.3840350679     -0.0000000052     (0.0m 1.3s)\n",
      "      15      0.0000002369     -0.3840350705     -0.0000000026     (0.0m 1.2s)\n",
      "      16      0.0000000813     -0.3840350716     -0.0000000011     (0.0m 0.5s)\n",
      "\n",
      "   EA-EOMCC Calculation Summary (converged)\n",
      "  --------------------------------------------------\n",
      "   Vertical excitation energy           -0.38403507\n",
      "   Total EA-EOMCC energy               -38.39286151\n",
      "\n",
      "   Largest 1p and 2p-1h Excited Amplitudes:\n",
      "      [1]     ->  4A  =   0.089027\n",
      "      [2]     ->  5A  =   0.940266\n",
      "      [3]     ->  9A  =   -0.052947\n",
      "      [4]     ->  22A  =   -0.033195\n",
      "      [5]     2A  ->  5A  6A  =   0.047490\n",
      "      [6]     3A  ->  5A  7A  =   0.082759\n",
      "      [7]     2A  ->  5A  10A  =   0.035386\n",
      "      [8]     3A  ->  5A  11A  =   -0.046535\n",
      "      [9]     3A  ->  5A  16A  =   0.047467\n",
      "      [10]     2A  ->  5A  17A  =   -0.031703\n",
      "      [11]     3A  ->  5A  17A  =   0.028299\n",
      "      [12]     3A  ->  5A  23A  =   -0.031228\n",
      "      [13]     2B  ->  5A  6B  =   0.061724\n",
      "      [14]     3B  ->  5A  7B  =   0.100535\n",
      "      [15]     2B  ->  5A  10B  =   0.048076\n",
      "      [16]     2B  ->  5A  11B  =   -0.026232\n",
      "      [17]     3B  ->  5A  11B  =   -0.048334\n",
      "      [18]     3B  ->  5A  16B  =   0.060032\n",
      "      [19]     2B  ->  5A  17B  =   -0.036131\n",
      "      [20]     3B  ->  5A  17B  =   0.032884\n",
      "      [21]     3B  ->  5A  23B  =   -0.036047\n",
      "      [22]     2B  ->  14A  5B  =   -0.027461\n",
      "      [23]     2B  ->  15A  4B  =   -0.027461\n",
      "\n",
      "   EA-EOMCC calculation for root 1 ended on 2023-09-02 20:54:17 \n",
      "\n"
     ]
    }
   ],
   "source": [
    "driver.run_eaeomcc(method=\"eaeom3\", state_index=[0, 1])"
   ]
  },
  {
   "cell_type": "code",
   "execution_count": null,
   "id": "a34c0e7b",
   "metadata": {},
   "outputs": [],
   "source": []
  }
 ],
 "metadata": {
  "kernelspec": {
   "display_name": "Python 3 (ipykernel)",
   "language": "python",
   "name": "python3"
  },
  "language_info": {
   "codemirror_mode": {
    "name": "ipython",
    "version": 3
   },
   "file_extension": ".py",
   "mimetype": "text/x-python",
   "name": "python",
   "nbconvert_exporter": "python",
   "pygments_lexer": "ipython3",
   "version": "3.9.7"
  }
 },
 "nbformat": 4,
 "nbformat_minor": 5
}
