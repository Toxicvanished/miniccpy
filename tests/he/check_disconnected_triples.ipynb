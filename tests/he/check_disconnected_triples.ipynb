{
 "cells": [
  {
   "cell_type": "code",
   "execution_count": 1,
   "id": "71b81a5b",
   "metadata": {},
   "outputs": [],
   "source": [
    "import numpy as np"
   ]
  },
  {
   "cell_type": "code",
   "execution_count": 2,
   "id": "33ded0e6",
   "metadata": {},
   "outputs": [
    {
     "name": "stdout",
     "output_type": "stream",
     "text": [
      "converged SCF energy = -2.85516042615445\n",
      "   System Information:\n",
      "   ----------------------------------------------------\n",
      "     Number of correlated electrons = 2\n",
      "     Number of correlated orbitals = 4\n",
      "     Number of frozen orbitals = 0\n",
      "     Number of occupied orbitals = 2\n",
      "     Number of unoccupied orbitals = 2\n",
      "     Charge = 0\n",
      "     Symmetry group = SO3\n",
      "     Spin multiplicity of reference = 1\n",
      "\n",
      "      MO #        Energy (a.u.)      Symmetry    Occupation\n",
      "  -----------------------------------------------------------\n",
      "         1            -0.914127           s+0           2.0\n",
      "         2             1.399859           s+0           0.0\n",
      "\n",
      "   Nuclear Repulsion Energy = 0\n",
      "   Reference Energy = -2.8551604261544465\n",
      "\n",
      "    ==> CCSD amplitude equations <==\n",
      "\n",
      "     Iter               Energy                 |dE|                 |dT|\n",
      "        0      -0.011200122910       0.011200122910       0.455340990536    0.00m 0.01s\n",
      "        1      -0.014037837610       0.002837714700       0.119622293820    0.00m 0.01s\n",
      "        2      -0.014756223774       0.000718386164       0.031008210012    0.00m 0.01s\n",
      "        3      -0.014938952570       0.000182728797       0.008005226099    0.00m 0.01s\n",
      "        4      -0.014985626516       0.000046673946       0.002063683284    0.00m 0.01s\n",
      "        5      -0.014997582820       0.000011956304       0.000531674253    0.00m 0.01s\n",
      "        6      -0.015000651340       0.000003068520       0.000136935105    0.00m 0.01s\n",
      "        7      -0.015001439784       0.000000788444       0.000035262221    0.00m 0.01s\n",
      "        8      -0.015001642520       0.000000202736       0.000009079474    0.00m 0.01s\n",
      "        9      -0.015001694674       0.000000052154       0.000002337680    0.00m 0.01s\n",
      "       10      -0.015001708095       0.000000013421       0.000000601857    0.00m 0.01s\n",
      "       11      -0.015001711549       0.000000003454       0.000000154950    0.00m 0.01s\n",
      "       12      -0.015001712438       0.000000000889       0.000000039892    0.00m 0.01s\n",
      "       13      -0.015001712667       0.000000000229       0.000000010270    0.00m 0.01s\n",
      "       14      -0.015001712726       0.000000000059       0.000000002644    0.00m 0.01s\n",
      "       15      -0.015001712741       0.000000000015       0.000000000681    0.00m 0.01s\n",
      "       16      -0.015001712745       0.000000000004       0.000000000175    0.00m 0.01s\n",
      "       17      -0.015001712746       0.000000000001       0.000000000045    0.00m 0.01s\n",
      "       18      -0.015001712746       0.000000000000       0.000000000012    0.00m 0.01s\n",
      "       19      -0.015001712746       0.000000000000       0.000000000003    0.00m 0.01s\n",
      "\n",
      "    CC Correlation Energy:      -0.015001712746\n",
      "\n",
      "CC calculation completed in 0.00m 0.15s\n"
     ]
    }
   ],
   "source": [
    "from miniccpy.driver import run_scf, run_cc_calc\n",
    "\n",
    "basis = '6-31g'\n",
    "nfrozen = 0\n",
    "\n",
    "atom = [['He', (0.000, 0.000, 0.000)]] \n",
    "\n",
    "fock, g, e_hf, o, v = run_scf(atom, basis, nfrozen)\n",
    "\n",
    "T, E_corr = run_cc_calc(fock, g, o, v, method='ccsd', convergence=1.0e-012, diis_size=100)"
   ]
  },
  {
   "cell_type": "code",
   "execution_count": 3,
   "id": "bfd3674b",
   "metadata": {},
   "outputs": [
    {
     "name": "stdout",
     "output_type": "stream",
     "text": [
      "[[0.00208456 0.        ]\n",
      " [0.         0.00208456]]\n"
     ]
    }
   ],
   "source": [
    "print(T[0])"
   ]
  },
  {
   "cell_type": "code",
   "execution_count": 4,
   "id": "74e13200",
   "metadata": {},
   "outputs": [
    {
     "name": "stdout",
     "output_type": "stream",
     "text": [
      "[[[[ 0.          0.        ]\n",
      "   [ 0.          0.        ]]\n",
      "\n",
      "  [[ 0.         -0.06589656]\n",
      "   [ 0.06589656  0.        ]]]\n",
      "\n",
      "\n",
      " [[[ 0.          0.06589656]\n",
      "   [-0.06589656  0.        ]]\n",
      "\n",
      "  [[ 0.          0.        ]\n",
      "   [ 0.          0.        ]]]]\n"
     ]
    }
   ],
   "source": [
    "print(T[1])"
   ]
  },
  {
   "cell_type": "code",
   "execution_count": 5,
   "id": "00757b52",
   "metadata": {},
   "outputs": [
    {
     "data": {
      "text/plain": [
       "array([[-9.14126629e-01,  0.00000000e+00,  1.78546067e-12,\n",
       "         0.00000000e+00],\n",
       "       [ 0.00000000e+00, -9.14126629e-01,  0.00000000e+00,\n",
       "         1.78546067e-12],\n",
       "       [ 1.78579374e-12,  0.00000000e+00,  1.39985934e+00,\n",
       "         0.00000000e+00],\n",
       "       [ 0.00000000e+00,  1.78579374e-12,  0.00000000e+00,\n",
       "         1.39985934e+00]])"
      ]
     },
     "execution_count": 5,
     "metadata": {},
     "output_type": "execute_result"
    }
   ],
   "source": [
    "fock"
   ]
  },
  {
   "cell_type": "code",
   "execution_count": 6,
   "id": "7cf8948b",
   "metadata": {},
   "outputs": [],
   "source": [
    "VT13 = -np.einsum(\"mnef,fn,ei,am->ai\", g[o, o, v, v], T[0], T[0], T[0], optimize=True)"
   ]
  },
  {
   "cell_type": "code",
   "execution_count": 7,
   "id": "f8cee9c5",
   "metadata": {},
   "outputs": [
    {
     "data": {
      "text/plain": [
       "array([[-2.06228958e-09, -0.00000000e+00],\n",
       "       [-0.00000000e+00, -2.06228958e-09]])"
      ]
     },
     "execution_count": 7,
     "metadata": {},
     "output_type": "execute_result"
    }
   ],
   "source": [
    "VT13"
   ]
  },
  {
   "cell_type": "code",
   "execution_count": 8,
   "id": "dbafed96",
   "metadata": {},
   "outputs": [
    {
     "name": "stdout",
     "output_type": "stream",
     "text": [
      "-2.062289583104001e-09 0.0 0.0 -0.0\n"
     ]
    }
   ],
   "source": [
    "x1 = -g[0, 1, 2, 3] * T[0][1, 1] * T[0][0, 0] * T[0][0, 0] # -<12||34> * <4|t1|2> * <3|t1|1> * <3|t1|1>\n",
    "x2 = -g[0, 1, 3, 2] * T[0][0, 1] * T[0][1, 0] * T[0][0, 0] # -<12||43> * <3|t1|2> * <4|t1|1> * <3|t1|1> (SF)\n",
    "x3 = -g[1, 0, 2, 3] * T[0][1, 0] * T[0][0, 0] * T[0][0, 1] # -<21||34> * <4|t1|1> * <3|t1|1> * <3|t1|2> (SF)\n",
    "x4 = -g[1, 0, 3, 2] * T[0][0, 0] * T[0][1, 0] * T[0][0, 1] # -<21||43> * <3|t1|1> * <4|t1|1> * <3|t1|2> (SF)\n",
    "\n",
    "print(x1,x2,x3,x4)"
   ]
  },
  {
   "cell_type": "code",
   "execution_count": 9,
   "id": "9b5d8c5b",
   "metadata": {},
   "outputs": [],
   "source": [
    "VT1T2 = (\n",
    "            np.einsum(\"mnef,fn,aeim->ai\", g[o, o, v, v], T[0], T[1], optimize=True)\n",
    "            - 0.5 * np.einsum(\"mnef,am,efin->ai\", g[o, o, v, v], T[0], T[1], optimize=True)\n",
    "            - 0.5 * np.einsum(\"mnef,ei,afmn->ai\", g[o, o, v, v], T[0], T[1], optimize=True)\n",
    ")"
   ]
  },
  {
   "cell_type": "code",
   "execution_count": 10,
   "id": "dce6be93",
   "metadata": {},
   "outputs": [
    {
     "data": {
      "text/plain": [
       "array([[3.12740253e-05, 0.00000000e+00],\n",
       "       [0.00000000e+00, 3.12740253e-05]])"
      ]
     },
     "execution_count": 10,
     "metadata": {},
     "output_type": "execute_result"
    }
   ],
   "source": [
    "VT1T2"
   ]
  },
  {
   "cell_type": "markdown",
   "id": "9c8929bb",
   "metadata": {},
   "source": [
    "# Huckel-like Models"
   ]
  },
  {
   "cell_type": "code",
   "execution_count": 27,
   "id": "3ede2470",
   "metadata": {},
   "outputs": [],
   "source": [
    "def get_linear_huckel(n):\n",
    "    alpha = 0.0\n",
    "    beta = -1.0\n",
    "    \n",
    "    h1 = np.diag(alpha*np.ones(n)) + np.diag(beta*np.ones(n-1), -1) + np.diag(beta*np.ones(n-1), 1)\n",
    "    h2 = np.zeros((n, n, n, n))\n",
    "    for i in range(n):\n",
    "        h2[i, i, i, i] = 2.0 * abs(beta)\n",
    "        \n",
    "    return h1, h2\n",
    "\n",
    "def huckel_system(h1, h2):\n",
    "    \n",
    "    from miniccpy.integrals import spatial_to_spinorb, get_fock\n",
    "    from miniccpy.energy import hf_energy, hf_energy_from_fock\n",
    "    from miniccpy.printing import print_custom_system_information\n",
    "    \n",
    "    norbitals = h1.shape[0]\n",
    "    nelectron = h1.shape[0]\n",
    "\n",
    "    # Diagonalize one-body matrix to get Huckel eigenstates as the single-particle spatial orbital (MO) basis\n",
    "    mo_energy, mo_coeff = np.linalg.eigh(h1)\n",
    "\n",
    "    # Perform AO to MO transformation in spatial orbital basis \n",
    "    e1int = np.einsum(\"ip,ij,jq->pq\", mo_coeff, h1, mo_coeff, optimize=True)\n",
    "    e2int = np.einsum(\"ip,jq,kr,ls,ijkl->pqrs\", mo_coeff, mo_coeff, mo_coeff, mo_coeff, h2, optimize=True)\n",
    "    # Convert from spatial orbitals to spin-orbitals\n",
    "    z, g = spatial_to_spinorb(e1int, e2int)\n",
    "    # Antisymmetrize two-body integrals\n",
    "    g -= np.transpose(g, (0, 1, 3, 2))\n",
    "\n",
    "    # Get correlated slicing arrays\n",
    "    o = slice(0, nelectron)\n",
    "    v = slice(nelectron, 2 * norbitals)\n",
    "\n",
    "    # build Fock matrix and HF energy\n",
    "    fock = get_fock(z, g, o)\n",
    "    e_hf = hf_energy(z, g, o)\n",
    "    e_hf_test = hf_energy_from_fock(fock, g, o)\n",
    "    assert(abs(e_hf - e_hf_test) < 1.0e-09)\n",
    "\n",
    "    # Print system information\n",
    "    print_custom_system_information(fock, nelectron, 0, e_hf)\n",
    "    \n",
    "    return fock, g, o, v"
   ]
  },
  {
   "cell_type": "code",
   "execution_count": 28,
   "id": "8eec2047",
   "metadata": {},
   "outputs": [
    {
     "name": "stdout",
     "output_type": "stream",
     "text": [
      "   System Information (Custom):\n",
      "   ----------------------------------------------------\n",
      "     Number of correlated electrons = 2\n",
      "     Number of correlated orbitals = 4\n",
      "     Number of frozen orbitals = 0\n",
      "     Number of occupied orbitals = 2\n",
      "     Number of unoccupied orbitals = 2\n",
      "      MO #        Energy (a.u.)      Symmetry    Occupation\n",
      "  -----------------------------------------------------------\n",
      "     1(1𝜶)            -0.000000            C1           1.0\n",
      "     2(1𝜷)            -0.000000            C1           1.0\n",
      "     3(2𝜶)             2.000000            C1           0.0\n",
      "     4(2𝜷)             2.000000            C1           0.0\n",
      "\n",
      "   Reference Energy = -0.9999999999999999\n",
      "\n",
      "    ==> CCSD amplitude equations <==\n",
      "\n",
      "     Iter               Energy                 |dE|                 |dT|\n",
      "        0      -0.250000000000       0.250000000000       2.000000000000    0.00m 0.01s\n",
      "        1      -0.234375000000       0.015625000000       0.125000000000    0.00m 0.01s\n",
      "        2      -0.236267089844       0.001892089844       0.015136718750    0.00m 0.01s\n",
      "        3      -0.236044465564       0.000222624280       0.001780994236    0.00m 0.01s\n",
      "        4      -0.236070752569       0.000026287005       0.000210296039    0.00m 0.01s\n",
      "        5      -0.236067649945       0.000003102624       0.000024820990    0.00m 0.01s\n",
      "        6      -0.236068016162       0.000000366217       0.000002929736    0.00m 0.01s\n",
      "        7      -0.236067972936       0.000000043226       0.000000345808    0.00m 0.01s\n",
      "        8      -0.236067978038       0.000000005102       0.000000040817    0.00m 0.01s\n",
      "        9      -0.236067977436       0.000000000602       0.000000004818    0.00m 0.01s\n",
      "       10      -0.236067977507       0.000000000071       0.000000000569    0.00m 0.01s\n",
      "       11      -0.236067977499       0.000000000008       0.000000000067    0.00m 0.01s\n",
      "       12      -0.236067977500       0.000000000001       0.000000000008    0.00m 0.01s\n",
      "\n",
      "    CC Correlation Energy:      -0.236067977500\n",
      "\n",
      "CC calculation completed in 0.00m 0.10s\n"
     ]
    }
   ],
   "source": [
    "# Huckel model for ethylene\n",
    "h1, h2 = get_linear_huckel(2)\n",
    "\n",
    "# Get MO spin-orbital integrals from Huckel parameterization\n",
    "fock, g, o, v = huckel_system(h1, h2)\n",
    "\n",
    "# Run CC calculation (for 2-site model, DIIS is singular)\n",
    "T, E_corr = run_cc_calc(fock, g, o, v, method='ccsd', convergence=1.0e-012, diis_size=100)"
   ]
  },
  {
   "cell_type": "code",
   "execution_count": 29,
   "id": "02962f78",
   "metadata": {},
   "outputs": [
    {
     "name": "stdout",
     "output_type": "stream",
     "text": [
      "   System Information (Custom):\n",
      "   ----------------------------------------------------\n",
      "     Number of correlated electrons = 4\n",
      "     Number of correlated orbitals = 8\n",
      "     Number of frozen orbitals = 0\n",
      "     Number of occupied orbitals = 4\n",
      "     Number of unoccupied orbitals = 4\n",
      "      MO #        Energy (a.u.)      Symmetry    Occupation\n",
      "  -----------------------------------------------------------\n",
      "     1(1𝜶)            -0.618034            C1           1.0\n",
      "     2(1𝜷)            -0.618034            C1           1.0\n",
      "     3(2𝜶)             0.381966            C1           1.0\n",
      "     4(2𝜷)             0.381966            C1           1.0\n",
      "     5(3𝜶)             1.618034            C1           0.0\n",
      "     6(3𝜷)             1.618034            C1           0.0\n",
      "     7(4𝜶)             2.618034            C1           0.0\n",
      "     8(4𝜷)             2.618034            C1           0.0\n",
      "\n",
      "   Reference Energy = -2.47213595499958\n",
      "\n",
      "    ==> CCSD amplitude equations <==\n",
      "\n",
      "     Iter               Energy                 |dE|                 |dT|\n",
      "        0      -0.415908643815       0.415908643815       2.592296279363    0.00m 0.01s\n",
      "        1      -0.387210947392       0.028697696423       0.592766462979    0.00m 0.01s\n",
      "        2      -0.408539516939       0.021328569548       0.187420485249    0.00m 0.01s\n",
      "        3      -0.401893204108       0.006646312831       0.085520662858    0.00m 0.01s\n",
      "        4      -0.404574893472       0.002681689364       0.045439483838    0.00m 0.01s\n",
      "        5      -0.403543804953       0.001031088519       0.026726165732    0.00m 0.01s\n",
      "        6      -0.404021213157       0.000477408204       0.015868418830    0.00m 0.01s\n",
      "        7      -0.403797694622       0.000223518535       0.009465896458    0.00m 0.01s\n",
      "        8      -0.403916838363       0.000119143741       0.005667321786    0.00m 0.01s\n",
      "        9      -0.403852364739       0.000064473624       0.003384720114    0.00m 0.01s\n",
      "       10      -0.403875955638       0.000023590899       0.000000011611    0.00m 0.01s\n",
      "       11      -0.403875955416       0.000000000222       0.000000005070    0.00m 0.01s\n",
      "       12      -0.403875955435       0.000000000019       0.000000002068    0.00m 0.01s\n",
      "       13      -0.403875955448       0.000000000013       0.000000000000    0.00m 0.01s\n",
      "\n",
      "    CC Correlation Energy:      -0.403875955448\n",
      "\n",
      "CC calculation completed in 0.00m 0.11s\n"
     ]
    }
   ],
   "source": [
    "# Huckel model for butadiene\n",
    "h1, h2 = get_linear_huckel(4)\n",
    "\n",
    "# Get MO spin-orbital integrals from Huckel parameterization\n",
    "fock, g, o, v = huckel_system(h1, h2)\n",
    "\n",
    "# Run CC calculation\n",
    "T, E_corr = run_cc_calc(fock, g, o, v, method='ccsd', convergence=1.0e-012, diis_size=6)"
   ]
  },
  {
   "cell_type": "code",
   "execution_count": 30,
   "id": "ac165128",
   "metadata": {},
   "outputs": [
    {
     "name": "stdout",
     "output_type": "stream",
     "text": [
      "   System Information (Custom):\n",
      "   ----------------------------------------------------\n",
      "     Number of correlated electrons = 12\n",
      "     Number of correlated orbitals = 24\n",
      "     Number of frozen orbitals = 0\n",
      "     Number of occupied orbitals = 12\n",
      "     Number of unoccupied orbitals = 12\n",
      "      MO #        Energy (a.u.)      Symmetry    Occupation\n",
      "  -----------------------------------------------------------\n",
      "     1(1𝜶)            -0.941884            C1           1.0\n",
      "     2(1𝜷)            -0.941884            C1           1.0\n",
      "     3(2𝜶)            -0.770912            C1           1.0\n",
      "     4(2𝜷)            -0.770912            C1           1.0\n",
      "     5(3𝜶)            -0.497021            C1           1.0\n",
      "     6(3𝜷)            -0.497021            C1           1.0\n",
      "     7(4𝜶)            -0.136129            C1           1.0\n",
      "     8(4𝜷)            -0.136129            C1           1.0\n",
      "     9(5𝜶)             0.290790            C1           1.0\n",
      "    10(5𝜷)             0.290790            C1           1.0\n",
      "    11(6𝜶)             0.758927            C1           1.0\n",
      "    12(6𝜷)             0.758927            C1           1.0\n",
      "    13(7𝜶)             1.241073            C1           0.0\n",
      "    14(7𝜷)             1.241073            C1           0.0\n",
      "    15(8𝜶)             1.709210            C1           0.0\n",
      "    16(8𝜷)             1.709210            C1           0.0\n",
      "    17(9𝜶)             2.136129            C1           0.0\n",
      "    18(9𝜷)             2.136129            C1           0.0\n",
      "   19(10𝜶)             2.497021            C1           0.0\n",
      "   20(10𝜷)             2.497021            C1           0.0\n",
      "   21(11𝜶)             2.770912            C1           0.0\n",
      "   22(11𝜷)             2.770912            C1           0.0\n",
      "   23(12𝜶)             2.941884            C1           0.0\n",
      "   24(12𝜷)             2.941884            C1           0.0\n",
      "\n",
      "   Reference Energy = -8.592459621117507\n",
      "\n",
      "    ==> CCSD amplitude equations <==\n",
      "\n",
      "     Iter               Energy                 |dE|                 |dT|\n",
      "        0      -0.988147120038       0.988147120038       4.168066825890    0.00m 0.02s\n",
      "        1      -0.919014767526       0.069132352512       1.105336780625    0.00m 0.01s\n",
      "        2      -1.015959759217       0.096944991691       0.562518105680    0.00m 0.01s\n",
      "        3      -0.968272725211       0.047687034006       0.447660944077    0.00m 0.01s\n",
      "        4      -1.011291929509       0.043019204297       0.382241047571    0.00m 0.01s\n",
      "        5      -0.978125200193       0.033166729316       0.379648208508    0.00m 0.01s\n",
      "        6      -1.007514189153       0.029388988961       0.380520918130    0.00m 0.01s\n",
      "        7      -0.982060294923       0.025453894230       0.391053577237    0.00m 0.01s\n",
      "        8      -1.005215387718       0.023155092794       0.403112679868    0.00m 0.01s\n",
      "        9      -0.984137266635       0.021078121082       0.417474646206    0.00m 0.01s\n",
      "       10      -0.994139116931       0.010001850296       0.002440433564    0.00m 0.01s\n",
      "       11      -0.994129884695       0.000009232236       0.001729837173    0.00m 0.01s\n",
      "       12      -0.994110551540       0.000019333155       0.000423915278    0.00m 0.01s\n",
      "       13      -0.994106858289       0.000003693251       0.000069379060    0.00m 0.02s\n",
      "       14      -0.994107687292       0.000000829003       0.000020286443    0.00m 0.02s\n",
      "       15      -0.994107677247       0.000000010045       0.000003319045    0.00m 0.02s\n",
      "       16      -0.994107611930       0.000000065317       0.000000821976    0.00m 0.01s\n",
      "       17      -0.994107619224       0.000000007294       0.000000193768    0.00m 0.01s\n",
      "       18      -0.994107619176       0.000000000048       0.000000075735    0.00m 0.01s\n",
      "       19      -0.994107617254       0.000000001922       0.000000014579    0.00m 0.01s\n",
      "       20      -0.994107617634       0.000000000380       0.000000004427    0.00m 0.01s\n",
      "       21      -0.994107617563       0.000000000071       0.000000001510    0.00m 0.01s\n",
      "       22      -0.994107617568       0.000000000005       0.000000000436    0.00m 0.01s\n",
      "       23      -0.994107617577       0.000000000009       0.000000000120    0.00m 0.01s\n",
      "       24      -0.994107617580       0.000000000003       0.000000000039    0.00m 0.01s\n",
      "       25      -0.994107617580       0.000000000000       0.000000000017    0.00m 0.01s\n",
      "       26      -0.994107617581       0.000000000000       0.000000000006    0.00m 0.02s\n",
      "       27      -0.994107617581       0.000000000000       0.000000000002    0.00m 0.03s\n",
      "\n",
      "    CC Correlation Energy:      -0.994107617581\n",
      "\n",
      "CC calculation completed in 0.00m 0.46s\n"
     ]
    }
   ],
   "source": [
    "# Huckel model for butadiene\n",
    "h1, h2 = get_linear_huckel(12)\n",
    "\n",
    "# Get MO spin-orbital integrals from Huckel parameterization\n",
    "fock, g, o, v = huckel_system(h1, h2)\n",
    "\n",
    "# Run CC calculation\n",
    "T, E_corr = run_cc_calc(fock, g, o, v, method='ccsd', convergence=1.0e-012, diis_size=6)"
   ]
  },
  {
   "cell_type": "code",
   "execution_count": null,
   "id": "e85b76fa",
   "metadata": {},
   "outputs": [],
   "source": []
  },
  {
   "cell_type": "code",
   "execution_count": null,
   "id": "7b9f1de2",
   "metadata": {},
   "outputs": [],
   "source": []
  },
  {
   "cell_type": "code",
   "execution_count": null,
   "id": "19aa037e",
   "metadata": {},
   "outputs": [],
   "source": []
  }
 ],
 "metadata": {
  "kernelspec": {
   "display_name": "Python 3 (ipykernel)",
   "language": "python",
   "name": "python3"
  },
  "language_info": {
   "codemirror_mode": {
    "name": "ipython",
    "version": 3
   },
   "file_extension": ".py",
   "mimetype": "text/x-python",
   "name": "python",
   "nbconvert_exporter": "python",
   "pygments_lexer": "ipython3",
   "version": "3.9.7"
  }
 },
 "nbformat": 4,
 "nbformat_minor": 5
}
